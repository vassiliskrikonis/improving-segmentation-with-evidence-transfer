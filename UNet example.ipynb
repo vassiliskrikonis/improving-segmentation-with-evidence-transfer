{
 "cells": [
  {
   "cell_type": "code",
   "execution_count": null,
   "metadata": {},
   "outputs": [],
   "source": [
    "%load_ext autoreload\n",
    "%autoreload 2"
   ]
  },
  {
   "cell_type": "code",
   "execution_count": null,
   "metadata": {},
   "outputs": [],
   "source": [
    "from datasets.skyline12 import Skyline12\n",
    "from sklearn.model_selection import train_test_split\n",
    "\n",
    "skyline12 = Skyline12('/storage/skyline12/data')\n",
    "train_set, test_set = train_test_split(list(skyline12), train_size=100, random_state=0)\n",
    "train_set, validation_set = train_test_split(train_set, train_size=0.8, random_state=42)\n",
    "len(train_set), len(validation_set), len(test_set)"
   ]
  },
  {
   "cell_type": "code",
   "execution_count": null,
   "metadata": {},
   "outputs": [],
   "source": [
    "import tensorflow as tf\n",
    "from datasets.skyline12 import create_augment_fn\n",
    "\n",
    "augment = create_augment_fn()\n",
    "NUM_CLASSES = 5\n",
    "\n",
    "\n",
    "def preprocess(x, y, z):\n",
    "    x, y, z = augment(x, y, z)\n",
    "    x = x.astype('float32')\n",
    "    x /= 255.0\n",
    "    y[y >= NUM_CLASSES - 1] = NUM_CLASSES - 1\n",
    "    y = tf.keras.utils.to_categorical(y, num_classes=NUM_CLASSES)\n",
    "    return x, y  # ignore z\n",
    "\n",
    "\n",
    "FOLDS = 50\n",
    "train_ds = tf.data.Dataset.from_generator(\n",
    "    lambda: (preprocess(x, y, z) for x, y, z in train_set),\n",
    "    (tf.dtypes.float32, tf.dtypes.uint8),\n",
    "    (tf.TensorShape([512, 512, 3]), tf.TensorShape([512, 512, NUM_CLASSES]))\n",
    ").repeat(FOLDS)\n",
    "validation_ds = tf.data.Dataset.from_generator(\n",
    "    lambda: (preprocess(x, y, z) for x, y, z in validation_set),\n",
    "    (tf.dtypes.float32, tf.dtypes.uint8),\n",
    "    (tf.TensorShape([512, 512, 3]), tf.TensorShape([512, 512, NUM_CLASSES]))\n",
    ").repeat(FOLDS)"
   ]
  },
  {
   "cell_type": "code",
   "execution_count": null,
   "metadata": {},
   "outputs": [],
   "source": [
    "from models.unet import create_unet\n",
    "from metrics import CategoricalMeanIou\n",
    "\n",
    "unet = create_unet()\n",
    "unet.compile(\n",
    "    optimizer='adam',\n",
    "    loss='categorical_crossentropy',\n",
    "    metrics=[CategoricalMeanIou(num_classes=5), 'accuracy'],\n",
    "    run_eagerly=False\n",
    ")"
   ]
  },
  {
   "cell_type": "code",
   "execution_count": null,
   "metadata": {},
   "outputs": [],
   "source": [
    "early_stopper = tf.keras.callbacks.EarlyStopping(patience=10)\n",
    "\n",
    "unet.fit(\n",
    "    train_ds.batch(1),\n",
    "    epochs=200,\n",
    "    validation_data=validation_ds.batch(1),\n",
    "    callbacks=[early_stopper]\n",
    ")"
   ]
  }
 ],
 "metadata": {
  "kernelspec": {
   "display_name": "Python 3",
   "language": "python",
   "name": "python3"
  },
  "language_info": {
   "codemirror_mode": {
    "name": "ipython",
    "version": 3
   },
   "file_extension": ".py",
   "mimetype": "text/x-python",
   "name": "python",
   "nbconvert_exporter": "python",
   "pygments_lexer": "ipython3",
   "version": "3.6.9"
  }
 },
 "nbformat": 4,
 "nbformat_minor": 4
}
