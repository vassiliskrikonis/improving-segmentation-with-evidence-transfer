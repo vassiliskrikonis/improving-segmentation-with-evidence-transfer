{
 "cells": [
  {
   "cell_type": "code",
   "execution_count": 1,
   "metadata": {},
   "outputs": [],
   "source": [
    "%load_ext autoreload\n",
    "%autoreload 2"
   ]
  },
  {
   "cell_type": "code",
   "execution_count": 2,
   "metadata": {},
   "outputs": [
    {
     "data": {
      "text/plain": [
       "(80, 20, 20)"
      ]
     },
     "execution_count": 2,
     "metadata": {},
     "output_type": "execute_result"
    }
   ],
   "source": [
    "from datasets.skyline12 import Skyline12\n",
    "from sklearn.model_selection import train_test_split\n",
    "\n",
    "skyline12 = Skyline12('/storage/skyline12/data')\n",
    "train_set, test_set = train_test_split(list(skyline12), train_size=100, random_state=0)\n",
    "train_set, validation_set = train_test_split(train_set, train_size=0.8, random_state=42)\n",
    "len(train_set), len(validation_set), len(test_set)"
   ]
  },
  {
   "cell_type": "code",
   "execution_count": 3,
   "metadata": {},
   "outputs": [],
   "source": [
    "import tensorflow as tf\n",
    "from datasets.skyline12 import create_augment_fn\n",
    "from functools import partial\n",
    "\n",
    "NUM_CLASSES = 5\n",
    "FOLDS = 20\n",
    "\n",
    "\n",
    "def ds_gen(sample_set, folds):\n",
    "    augment = create_augment_fn()\n",
    "\n",
    "    def preprocess(x, y, z):\n",
    "        x, y, z = augment(x, y, z)\n",
    "        x = x.astype('float32')\n",
    "        x /= 255.0\n",
    "        y[y >= NUM_CLASSES - 1] = NUM_CLASSES - 1\n",
    "        y = tf.keras.utils.to_categorical(y, num_classes=NUM_CLASSES)\n",
    "        return x, y  # ignore z\n",
    "\n",
    "    for _ in range(folds):\n",
    "        for x, y, z in sample_set:\n",
    "            yield preprocess(x, y, z)\n",
    "\n",
    "\n",
    "train_ds = tf.data.Dataset.from_generator(\n",
    "    partial(ds_gen, train_set, FOLDS),\n",
    "    (tf.dtypes.float32, tf.dtypes.uint8),\n",
    "    (tf.TensorShape([512, 512, 3]), tf.TensorShape([512, 512, NUM_CLASSES]))\n",
    ")\n",
    "validation_ds = tf.data.Dataset.from_generator(\n",
    "    partial(ds_gen, validation_set, FOLDS // 2),\n",
    "    (tf.dtypes.float32, tf.dtypes.uint8),\n",
    "    (tf.TensorShape([512, 512, 3]), tf.TensorShape([512, 512, NUM_CLASSES]))\n",
    ")"
   ]
  },
  {
   "cell_type": "code",
   "execution_count": 4,
   "metadata": {},
   "outputs": [],
   "source": [
    "from models.unet import create_unet\n",
    "from metrics import CategoricalMeanIou\n",
    "\n",
    "unet = create_unet()\n",
    "unet.compile(\n",
    "    optimizer='adam',\n",
    "    loss='categorical_crossentropy',\n",
    "    metrics=[CategoricalMeanIou(num_classes=5), 'accuracy'],\n",
    "    run_eagerly=False\n",
    ")"
   ]
  },
  {
   "cell_type": "code",
   "execution_count": 5,
   "metadata": {},
   "outputs": [
    {
     "data": {
      "text/html": [
       "\n",
       "                Logging results to <a href=\"https://wandb.com\" target=\"_blank\">Weights & Biases</a> <a href=\"https://docs.wandb.com/integrations/jupyter.html\" target=\"_blank\">(Documentation)</a>.<br/>\n",
       "                Project page: <a href=\"https://app.wandb.ai/vassilis_krikonis/skyline12-augmentations\" target=\"_blank\">https://app.wandb.ai/vassilis_krikonis/skyline12-augmentations</a><br/>\n",
       "                Run page: <a href=\"https://app.wandb.ai/vassilis_krikonis/skyline12-augmentations/runs/2gf9fql4\" target=\"_blank\">https://app.wandb.ai/vassilis_krikonis/skyline12-augmentations/runs/2gf9fql4</a><br/>\n",
       "            "
      ],
      "text/plain": [
       "<IPython.core.display.HTML object>"
      ]
     },
     "metadata": {},
     "output_type": "display_data"
    },
    {
     "name": "stderr",
     "output_type": "stream",
     "text": [
      "\u001b[34m\u001b[1mwandb\u001b[0m: Wandb version 0.10.2 is available!  To upgrade, please run:\n",
      "\u001b[34m\u001b[1mwandb\u001b[0m:  $ pip install wandb --upgrade\n"
     ]
    },
    {
     "name": "stdout",
     "output_type": "stream",
     "text": [
      "Epoch 1/200\n",
      "534/534 [==============================] - 660s 1s/step - loss: 0.8498 - categorical_mean_iou: 0.2502 - accuracy: 0.6821 - val_loss: 0.8302 - val_categorical_mean_iou: 0.2913 - val_accuracy: 0.7027\n",
      "Epoch 2/200\n",
      "534/534 [==============================] - 328s 613ms/step - loss: 0.6579 - categorical_mean_iou: 0.3293 - accuracy: 0.7638 - val_loss: 0.5928 - val_categorical_mean_iou: 0.3662 - val_accuracy: 0.7903\n",
      "Epoch 3/200\n",
      "534/534 [==============================] - 327s 613ms/step - loss: 0.5247 - categorical_mean_iou: 0.3910 - accuracy: 0.8160 - val_loss: 0.4129 - val_categorical_mean_iou: 0.4445 - val_accuracy: 0.8607\n",
      "Epoch 4/200\n",
      "534/534 [==============================] - 327s 613ms/step - loss: 0.4490 - categorical_mean_iou: 0.4236 - accuracy: 0.8459 - val_loss: 0.4036 - val_categorical_mean_iou: 0.4454 - val_accuracy: 0.8653\n",
      "Epoch 5/200\n",
      "534/534 [==============================] - 326s 611ms/step - loss: 0.4058 - categorical_mean_iou: 0.4434 - accuracy: 0.8608 - val_loss: 0.3523 - val_categorical_mean_iou: 0.4673 - val_accuracy: 0.8815\n",
      "Epoch 6/200\n",
      "534/534 [==============================] - 327s 612ms/step - loss: 0.3585 - categorical_mean_iou: 0.4658 - accuracy: 0.8782 - val_loss: 0.3260 - val_categorical_mean_iou: 0.4797 - val_accuracy: 0.8908\n",
      "Epoch 7/200\n",
      "534/534 [==============================] - 327s 612ms/step - loss: 0.3310 - categorical_mean_iou: 0.4805 - accuracy: 0.8881 - val_loss: 0.3179 - val_categorical_mean_iou: 0.4885 - val_accuracy: 0.8971\n",
      "Epoch 8/200\n",
      "534/534 [==============================] - 327s 613ms/step - loss: 0.3110 - categorical_mean_iou: 0.4941 - accuracy: 0.8954 - val_loss: 0.2867 - val_categorical_mean_iou: 0.5045 - val_accuracy: 0.9067\n",
      "Epoch 9/200\n",
      "534/534 [==============================] - 327s 612ms/step - loss: 0.3010 - categorical_mean_iou: 0.5068 - accuracy: 0.8982 - val_loss: 0.2761 - val_categorical_mean_iou: 0.5202 - val_accuracy: 0.9089\n",
      "Epoch 10/200\n",
      "534/534 [==============================] - 327s 613ms/step - loss: 0.2840 - categorical_mean_iou: 0.5328 - accuracy: 0.9044 - val_loss: 0.2539 - val_categorical_mean_iou: 0.5603 - val_accuracy: 0.9171\n",
      "Epoch 11/200\n",
      "534/534 [==============================] - 327s 612ms/step - loss: 0.2758 - categorical_mean_iou: 0.5486 - accuracy: 0.9080 - val_loss: 0.2530 - val_categorical_mean_iou: 0.5718 - val_accuracy: 0.9191\n",
      "Epoch 12/200\n",
      "534/534 [==============================] - 325s 609ms/step - loss: 0.2616 - categorical_mean_iou: 0.5656 - accuracy: 0.9128 - val_loss: 0.2535 - val_categorical_mean_iou: 0.5558 - val_accuracy: 0.9200\n",
      "Epoch 13/200\n",
      "534/534 [==============================] - 327s 612ms/step - loss: 0.2484 - categorical_mean_iou: 0.5759 - accuracy: 0.9171 - val_loss: 0.2423 - val_categorical_mean_iou: 0.5599 - val_accuracy: 0.9236\n",
      "Epoch 14/200\n",
      "534/534 [==============================] - 327s 613ms/step - loss: 0.2478 - categorical_mean_iou: 0.5759 - accuracy: 0.9180 - val_loss: 0.2326 - val_categorical_mean_iou: 0.5845 - val_accuracy: 0.9249\n",
      "Epoch 15/200\n",
      "534/534 [==============================] - 327s 613ms/step - loss: 0.2374 - categorical_mean_iou: 0.5821 - accuracy: 0.9207 - val_loss: 0.2129 - val_categorical_mean_iou: 0.6047 - val_accuracy: 0.9320\n",
      "Epoch 16/200\n",
      "534/534 [==============================] - 325s 608ms/step - loss: 0.2161 - categorical_mean_iou: 0.6036 - accuracy: 0.9278 - val_loss: 0.2192 - val_categorical_mean_iou: 0.5750 - val_accuracy: 0.9312\n",
      "Epoch 17/200\n",
      "534/534 [==============================] - 325s 608ms/step - loss: 0.2601 - categorical_mean_iou: 0.5794 - accuracy: 0.9162 - val_loss: 0.2343 - val_categorical_mean_iou: 0.5582 - val_accuracy: 0.9230\n",
      "Epoch 18/200\n",
      "534/534 [==============================] - 327s 612ms/step - loss: 0.2086 - categorical_mean_iou: 0.6100 - accuracy: 0.9304 - val_loss: 0.1923 - val_categorical_mean_iou: 0.6254 - val_accuracy: 0.9371\n",
      "Epoch 19/200\n",
      "534/534 [==============================] - 327s 612ms/step - loss: 0.2237 - categorical_mean_iou: 0.6102 - accuracy: 0.9284 - val_loss: 0.1910 - val_categorical_mean_iou: 0.6317 - val_accuracy: 0.9390\n",
      "Epoch 20/200\n",
      "534/534 [==============================] - 327s 613ms/step - loss: 0.1986 - categorical_mean_iou: 0.6262 - accuracy: 0.9344 - val_loss: 0.1852 - val_categorical_mean_iou: 0.6342 - val_accuracy: 0.9382\n",
      "Epoch 21/200\n",
      "534/534 [==============================] - 325s 609ms/step - loss: 0.1938 - categorical_mean_iou: 0.6307 - accuracy: 0.9355 - val_loss: 0.2312 - val_categorical_mean_iou: 0.5900 - val_accuracy: 0.9260\n",
      "Epoch 22/200\n",
      "534/534 [==============================] - 325s 609ms/step - loss: 0.2149 - categorical_mean_iou: 0.6147 - accuracy: 0.9305 - val_loss: 0.1919 - val_categorical_mean_iou: 0.6293 - val_accuracy: 0.9380\n",
      "Epoch 23/200\n",
      "534/534 [==============================] - 327s 613ms/step - loss: 0.1833 - categorical_mean_iou: 0.6436 - accuracy: 0.9393 - val_loss: 0.1669 - val_categorical_mean_iou: 0.6601 - val_accuracy: 0.9449\n",
      "Epoch 24/200\n",
      "534/534 [==============================] - 325s 609ms/step - loss: 0.1691 - categorical_mean_iou: 0.6580 - accuracy: 0.9434 - val_loss: 0.1699 - val_categorical_mean_iou: 0.6629 - val_accuracy: 0.9454\n",
      "Epoch 25/200\n",
      "534/534 [==============================] - 325s 609ms/step - loss: 0.1615 - categorical_mean_iou: 0.6657 - accuracy: 0.9461 - val_loss: 0.1720 - val_categorical_mean_iou: 0.6692 - val_accuracy: 0.9461\n",
      "Epoch 26/200\n",
      "534/534 [==============================] - 325s 609ms/step - loss: 0.1922 - categorical_mean_iou: 0.6428 - accuracy: 0.9365 - val_loss: 0.2012 - val_categorical_mean_iou: 0.6316 - val_accuracy: 0.9346\n",
      "Epoch 27/200\n",
      "534/534 [==============================] - 325s 608ms/step - loss: 0.1931 - categorical_mean_iou: 0.6449 - accuracy: 0.9373 - val_loss: 0.2603 - val_categorical_mean_iou: 0.5698 - val_accuracy: 0.9181\n",
      "Epoch 28/200\n",
      "534/534 [==============================] - 327s 612ms/step - loss: 0.1731 - categorical_mean_iou: 0.6591 - accuracy: 0.9433 - val_loss: 0.1587 - val_categorical_mean_iou: 0.6746 - val_accuracy: 0.9476\n",
      "Epoch 29/200\n",
      "534/534 [==============================] - 325s 609ms/step - loss: 0.1694 - categorical_mean_iou: 0.6671 - accuracy: 0.9436 - val_loss: 0.1617 - val_categorical_mean_iou: 0.6760 - val_accuracy: 0.9468\n",
      "Epoch 30/200\n",
      "534/534 [==============================] - 325s 608ms/step - loss: 0.1633 - categorical_mean_iou: 0.6710 - accuracy: 0.9456 - val_loss: 0.1675 - val_categorical_mean_iou: 0.6732 - val_accuracy: 0.9464\n",
      "Epoch 31/200\n",
      "534/534 [==============================] - 325s 609ms/step - loss: 0.1513 - categorical_mean_iou: 0.6831 - accuracy: 0.9495 - val_loss: 0.1718 - val_categorical_mean_iou: 0.6758 - val_accuracy: 0.9456\n",
      "Epoch 32/200\n",
      "534/534 [==============================] - 325s 609ms/step - loss: 0.1633 - categorical_mean_iou: 0.6676 - accuracy: 0.9454 - val_loss: 0.1678 - val_categorical_mean_iou: 0.6656 - val_accuracy: 0.9474\n",
      "Epoch 33/200\n",
      "534/534 [==============================] - 325s 609ms/step - loss: 0.1460 - categorical_mean_iou: 0.6891 - accuracy: 0.9512 - val_loss: 0.1614 - val_categorical_mean_iou: 0.6844 - val_accuracy: 0.9509\n"
     ]
    },
    {
     "data": {
      "text/plain": [
       "<tensorflow.python.keras.callbacks.History at 0x7f987413f630>"
      ]
     },
     "execution_count": 5,
     "metadata": {},
     "output_type": "execute_result"
    }
   ],
   "source": [
    "!mkdir -p temp\n",
    "import wandb\n",
    "from wandb.keras import WandbCallback\n",
    "from callbacks import WandbLogPredictions\n",
    "\n",
    "early_stopper = tf.keras.callbacks.EarlyStopping(patience=5)\n",
    "checkpointer = tf.keras.callbacks.ModelCheckpoint(\n",
    "    'checkpoints/baseline-weights.h5', save_best_only=True, save_weights_only=True)\n",
    "class_labels = {\n",
    "    0: 'Borders',\n",
    "    1: 'Sky',\n",
    "    2: 'Unknown',\n",
    "    3: 'Unknown',\n",
    "    4: 'Skyscrapers',\n",
    "}\n",
    "data_to_log = next(iter(validation_ds.batch(20)))\n",
    "log_predictions = WandbLogPredictions(data_to_log, class_labels)\n",
    "AUTOTUNE = tf.data.experimental.AUTOTUNE\n",
    "\n",
    "wandb.init(project=\"skyline12-augmentations\", tags=['baseline'])\n",
    "unet.fit(\n",
    "    train_ds.batch(3).cache('temp/').prefetch(AUTOTUNE),\n",
    "    epochs=200,\n",
    "    validation_data=validation_ds.batch(3).cache('temp/').prefetch(AUTOTUNE),\n",
    "    callbacks=[early_stopper, WandbCallback(), log_predictions, checkpointer]\n",
    ")"
   ]
  }
 ],
 "metadata": {
  "kernelspec": {
   "display_name": "Python 3",
   "language": "python",
   "name": "python3"
  },
  "language_info": {
   "codemirror_mode": {
    "name": "ipython",
    "version": 3
   },
   "file_extension": ".py",
   "mimetype": "text/x-python",
   "name": "python",
   "nbconvert_exporter": "python",
   "pygments_lexer": "ipython3",
   "version": "3.6.9"
  }
 },
 "nbformat": 4,
 "nbformat_minor": 4
}
