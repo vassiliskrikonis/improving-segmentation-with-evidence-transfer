{
 "cells": [
  {
   "cell_type": "code",
   "execution_count": 1,
   "metadata": {},
   "outputs": [],
   "source": [
    "%load_ext autoreload\n",
    "%autoreload 2"
   ]
  },
  {
   "cell_type": "code",
   "execution_count": 2,
   "metadata": {},
   "outputs": [
    {
     "data": {
      "text/plain": [
       "(80, 20, 20)"
      ]
     },
     "execution_count": 2,
     "metadata": {},
     "output_type": "execute_result"
    }
   ],
   "source": [
    "from datasets.skyline12 import Skyline12\n",
    "from sklearn.model_selection import train_test_split\n",
    "\n",
    "skyline12 = Skyline12('/storage/skyline12/data')\n",
    "train_set, test_set = train_test_split(list(skyline12), train_size=100, random_state=0)\n",
    "train_set, validation_set = train_test_split(train_set, train_size=0.8, random_state=42)\n",
    "len(train_set), len(validation_set), len(test_set)"
   ]
  },
  {
   "cell_type": "code",
   "execution_count": 3,
   "metadata": {},
   "outputs": [],
   "source": [
    "import tensorflow as tf\n",
    "import numpy as np\n",
    "from datasets.skyline12 import create_augment_fn\n",
    "\n",
    "augment = create_augment_fn()\n",
    "NUM_CLASSES = 5\n",
    "\n",
    "\n",
    "def preprocess(x, y, z):\n",
    "    x, y, z = augment(x, y, z)\n",
    "    x = x.astype('float32')\n",
    "    x /= 255.0\n",
    "    y[y >= NUM_CLASSES - 1] = NUM_CLASSES - 1\n",
    "    y = tf.keras.utils.to_categorical(y, num_classes=NUM_CLASSES)\n",
    "    z[z > 0] = 1\n",
    "    z = np.expand_dims(z, -1)\n",
    "    return x, y, z\n",
    "\n",
    "\n",
    "FOLDS = 10\n",
    "train_ds = tf.data.Dataset.from_generator(\n",
    "    lambda: (preprocess(x, y, z) for x, y, z in train_set),\n",
    "    (tf.dtypes.float32, tf.dtypes.uint8, tf.dtypes.float32),\n",
    "    (\n",
    "        tf.TensorShape([512, 512, 3]),\n",
    "        tf.TensorShape([512, 512, NUM_CLASSES]),\n",
    "        tf.TensorShape([512, 512, 1])\n",
    "    )\n",
    ").map(lambda x, y, z: (x, [y, z])).repeat(FOLDS)\n",
    "validation_ds = tf.data.Dataset.from_generator(\n",
    "    lambda: (preprocess(x, y, z) for x, y, z in validation_set),\n",
    "    (tf.dtypes.float32, tf.dtypes.uint8, tf.dtypes.float32),\n",
    "    (\n",
    "        tf.TensorShape([512, 512, 3]),\n",
    "        tf.TensorShape([512, 512, NUM_CLASSES]),\n",
    "        tf.TensorShape([512, 512, 1])\n",
    "    )\n",
    ").map(lambda x, y, z: (x, [y, z])).repeat(FOLDS // 2)"
   ]
  },
  {
   "cell_type": "code",
   "execution_count": 3,
   "metadata": {},
   "outputs": [],
   "source": [
    "from models.unet import create_unet\n",
    "\n",
    "unet = create_unet()\n",
    "unet.load_weights('checkpoints/baseline-weights.h5')"
   ]
  },
  {
   "cell_type": "code",
   "execution_count": null,
   "metadata": {},
   "outputs": [],
   "source": []
  },
  {
   "cell_type": "code",
   "execution_count": 22,
   "metadata": {},
   "outputs": [
    {
     "data": {
      "text/html": [
       "\n",
       "                Logging results to <a href=\"https://wandb.com\" target=\"_blank\">Weights & Biases</a> <a href=\"https://docs.wandb.com/integrations/jupyter.html\" target=\"_blank\">(Documentation)</a>.<br/>\n",
       "                Project page: <a href=\"https://app.wandb.ai/vassilis_krikonis/skyline12-augmentations\" target=\"_blank\">https://app.wandb.ai/vassilis_krikonis/skyline12-augmentations</a><br/>\n",
       "                Run page: <a href=\"https://app.wandb.ai/vassilis_krikonis/skyline12-augmentations/runs/2k72jo3m\" target=\"_blank\">https://app.wandb.ai/vassilis_krikonis/skyline12-augmentations/runs/2k72jo3m</a><br/>\n",
       "            "
      ],
      "text/plain": [
       "<IPython.core.display.HTML object>"
      ]
     },
     "metadata": {},
     "output_type": "display_data"
    },
    {
     "name": "stderr",
     "output_type": "stream",
     "text": [
      "\u001b[34m\u001b[1mwandb\u001b[0m: Wandb version 0.10.2 is available!  To upgrade, please run:\n",
      "\u001b[34m\u001b[1mwandb\u001b[0m:  $ pip install wandb --upgrade\n"
     ]
    },
    {
     "name": "stdout",
     "output_type": "stream",
     "text": [
      "Epoch 1/200\n",
      "    267/Unknown - 123s 459ms/step - loss: 0.9504 - categorical_mean_iou_1: 0.2204 - accuracy: 0.6476WARNING:tensorflow:From /usr/local/lib/python3.6/dist-packages/tensorflow/python/training/tracking/tracking.py:111: Model.state_updates (from tensorflow.python.keras.engine.training) is deprecated and will be removed in a future version.\n",
      "Instructions for updating:\n",
      "This property should not be used in TensorFlow 2.0, as updates are applied automatically.\n",
      "WARNING:tensorflow:From /usr/local/lib/python3.6/dist-packages/tensorflow/python/training/tracking/tracking.py:111: Layer.updates (from tensorflow.python.keras.engine.base_layer) is deprecated and will be removed in a future version.\n",
      "Instructions for updating:\n",
      "This property should not be used in TensorFlow 2.0, as updates are applied automatically.\n",
      "INFO:tensorflow:Assets written to: checkpoints/best-baseline/assets\n",
      "267/267 [==============================] - 178s 666ms/step - loss: 0.9504 - categorical_mean_iou_1: 0.2204 - accuracy: 0.6476 - val_loss: 0.8463 - val_categorical_mean_iou_1: 0.2648 - val_accuracy: 0.7164\n",
      "Epoch 2/200\n",
      "267/267 [==============================] - ETA: 0s - loss: 0.7740 - categorical_mean_iou_1: 0.2734 - accuracy: 0.7117INFO:tensorflow:Assets written to: checkpoints/best-baseline/assets\n",
      "267/267 [==============================] - 173s 647ms/step - loss: 0.7740 - categorical_mean_iou_1: 0.2734 - accuracy: 0.7117 - val_loss: 0.7995 - val_categorical_mean_iou_1: 0.3051 - val_accuracy: 0.7209\n",
      "Epoch 3/200\n",
      "267/267 [==============================] - ETA: 0s - loss: 0.7669 - categorical_mean_iou_1: 0.2897 - accuracy: 0.7199INFO:tensorflow:Assets written to: checkpoints/best-baseline/assets\n",
      "267/267 [==============================] - 172s 645ms/step - loss: 0.7669 - categorical_mean_iou_1: 0.2897 - accuracy: 0.7199 - val_loss: 0.7608 - val_categorical_mean_iou_1: 0.3091 - val_accuracy: 0.7430\n",
      "Epoch 4/200\n",
      "267/267 [==============================] - ETA: 0s - loss: 0.6706 - categorical_mean_iou_1: 0.3327 - accuracy: 0.7670INFO:tensorflow:Assets written to: checkpoints/best-baseline/assets\n",
      "267/267 [==============================] - 172s 644ms/step - loss: 0.6706 - categorical_mean_iou_1: 0.3327 - accuracy: 0.7670 - val_loss: 0.5735 - val_categorical_mean_iou_1: 0.3684 - val_accuracy: 0.8017\n",
      "Epoch 5/200\n",
      "267/267 [==============================] - ETA: 0s - loss: 0.5508 - categorical_mean_iou_1: 0.3756 - accuracy: 0.8075INFO:tensorflow:Assets written to: checkpoints/best-baseline/assets\n",
      "267/267 [==============================] - 172s 646ms/step - loss: 0.5508 - categorical_mean_iou_1: 0.3756 - accuracy: 0.8075 - val_loss: 0.4692 - val_categorical_mean_iou_1: 0.4153 - val_accuracy: 0.8381\n",
      "Epoch 6/200\n",
      "267/267 [==============================] - ETA: 0s - loss: 0.4790 - categorical_mean_iou_1: 0.4100 - accuracy: 0.8346INFO:tensorflow:Assets written to: checkpoints/best-baseline/assets\n",
      "267/267 [==============================] - 173s 647ms/step - loss: 0.4790 - categorical_mean_iou_1: 0.4100 - accuracy: 0.8346 - val_loss: 0.4401 - val_categorical_mean_iou_1: 0.4334 - val_accuracy: 0.8518\n",
      "Epoch 7/200\n",
      "267/267 [==============================] - ETA: 0s - loss: 0.4478 - categorical_mean_iou_1: 0.4256 - accuracy: 0.8474INFO:tensorflow:Assets written to: checkpoints/best-baseline/assets\n",
      "267/267 [==============================] - 172s 645ms/step - loss: 0.4478 - categorical_mean_iou_1: 0.4256 - accuracy: 0.8474 - val_loss: 0.4103 - val_categorical_mean_iou_1: 0.4446 - val_accuracy: 0.8616\n",
      "Epoch 8/200\n",
      "267/267 [==============================] - 167s 626ms/step - loss: 0.4134 - categorical_mean_iou_1: 0.4411 - accuracy: 0.8591 - val_loss: 0.4386 - val_categorical_mean_iou_1: 0.4397 - val_accuracy: 0.8424\n",
      "Epoch 9/200\n",
      "267/267 [==============================] - ETA: 0s - loss: 0.4054 - categorical_mean_iou_1: 0.4480 - accuracy: 0.8640INFO:tensorflow:Assets written to: checkpoints/best-baseline/assets\n",
      "267/267 [==============================] - 173s 648ms/step - loss: 0.4054 - categorical_mean_iou_1: 0.4480 - accuracy: 0.8640 - val_loss: 0.3409 - val_categorical_mean_iou_1: 0.4830 - val_accuracy: 0.8878\n",
      "Epoch 10/200\n",
      "267/267 [==============================] - 167s 625ms/step - loss: 0.3862 - categorical_mean_iou_1: 0.4594 - accuracy: 0.8697 - val_loss: 0.3423 - val_categorical_mean_iou_1: 0.4833 - val_accuracy: 0.8842\n",
      "Epoch 11/200\n",
      "267/267 [==============================] - ETA: 0s - loss: 0.3582 - categorical_mean_iou_1: 0.4724 - accuracy: 0.8803INFO:tensorflow:Assets written to: checkpoints/best-baseline/assets\n",
      "267/267 [==============================] - 172s 645ms/step - loss: 0.3582 - categorical_mean_iou_1: 0.4724 - accuracy: 0.8803 - val_loss: 0.3105 - val_categorical_mean_iou_1: 0.4983 - val_accuracy: 0.8975\n",
      "Epoch 12/200\n",
      "267/267 [==============================] - 167s 624ms/step - loss: 0.3443 - categorical_mean_iou_1: 0.4836 - accuracy: 0.8859 - val_loss: 0.3177 - val_categorical_mean_iou_1: 0.4983 - val_accuracy: 0.8925\n",
      "Epoch 13/200\n",
      "267/267 [==============================] - ETA: 0s - loss: 0.3361 - categorical_mean_iou_1: 0.4872 - accuracy: 0.8880INFO:tensorflow:Assets written to: checkpoints/best-baseline/assets\n",
      "267/267 [==============================] - 173s 647ms/step - loss: 0.3361 - categorical_mean_iou_1: 0.4872 - accuracy: 0.8880 - val_loss: 0.3063 - val_categorical_mean_iou_1: 0.5022 - val_accuracy: 0.8967\n",
      "Epoch 14/200\n",
      "267/267 [==============================] - ETA: 0s - loss: 0.3200 - categorical_mean_iou_1: 0.4962 - accuracy: 0.8939INFO:tensorflow:Assets written to: checkpoints/best-baseline/assets\n",
      "267/267 [==============================] - 172s 643ms/step - loss: 0.3200 - categorical_mean_iou_1: 0.4962 - accuracy: 0.8939 - val_loss: 0.2974 - val_categorical_mean_iou_1: 0.5076 - val_accuracy: 0.8987\n",
      "Epoch 15/200\n",
      "267/267 [==============================] - ETA: 0s - loss: 0.3092 - categorical_mean_iou_1: 0.5153 - accuracy: 0.8973INFO:tensorflow:Assets written to: checkpoints/best-baseline/assets\n",
      "267/267 [==============================] - 173s 646ms/step - loss: 0.3092 - categorical_mean_iou_1: 0.5153 - accuracy: 0.8973 - val_loss: 0.2865 - val_categorical_mean_iou_1: 0.5419 - val_accuracy: 0.9039\n",
      "Epoch 16/200\n",
      "267/267 [==============================] - ETA: 0s - loss: 0.2981 - categorical_mean_iou_1: 0.5235 - accuracy: 0.9010INFO:tensorflow:Assets written to: checkpoints/best-baseline/assets\n",
      "267/267 [==============================] - 172s 644ms/step - loss: 0.2981 - categorical_mean_iou_1: 0.5235 - accuracy: 0.9010 - val_loss: 0.2843 - val_categorical_mean_iou_1: 0.5478 - val_accuracy: 0.9046\n",
      "Epoch 17/200\n",
      "267/267 [==============================] - ETA: 0s - loss: 0.2989 - categorical_mean_iou_1: 0.5259 - accuracy: 0.9023INFO:tensorflow:Assets written to: checkpoints/best-baseline/assets\n",
      "267/267 [==============================] - 172s 645ms/step - loss: 0.2989 - categorical_mean_iou_1: 0.5259 - accuracy: 0.9023 - val_loss: 0.2644 - val_categorical_mean_iou_1: 0.5547 - val_accuracy: 0.9116\n",
      "Epoch 18/200\n",
      "267/267 [==============================] - ETA: 0s - loss: 0.2700 - categorical_mean_iou_1: 0.5513 - accuracy: 0.9116INFO:tensorflow:Assets written to: checkpoints/best-baseline/assets\n",
      "267/267 [==============================] - 172s 643ms/step - loss: 0.2700 - categorical_mean_iou_1: 0.5513 - accuracy: 0.9116 - val_loss: 0.2532 - val_categorical_mean_iou_1: 0.5733 - val_accuracy: 0.9170\n",
      "Epoch 19/200\n",
      "267/267 [==============================] - 167s 625ms/step - loss: 0.2743 - categorical_mean_iou_1: 0.5544 - accuracy: 0.9095 - val_loss: 0.2554 - val_categorical_mean_iou_1: 0.5771 - val_accuracy: 0.9152\n",
      "Epoch 20/200\n",
      "267/267 [==============================] - 167s 626ms/step - loss: 0.2642 - categorical_mean_iou_1: 0.5625 - accuracy: 0.9124 - val_loss: 0.2574 - val_categorical_mean_iou_1: 0.5770 - val_accuracy: 0.9138\n",
      "Epoch 21/200\n",
      "267/267 [==============================] - ETA: 0s - loss: 0.2570 - categorical_mean_iou_1: 0.5712 - accuracy: 0.9162INFO:tensorflow:Assets written to: checkpoints/best-baseline/assets\n",
      "267/267 [==============================] - 172s 645ms/step - loss: 0.2570 - categorical_mean_iou_1: 0.5712 - accuracy: 0.9162 - val_loss: 0.2451 - val_categorical_mean_iou_1: 0.5896 - val_accuracy: 0.9195\n",
      "Epoch 22/200\n",
      "267/267 [==============================] - ETA: 0s - loss: 0.2523 - categorical_mean_iou_1: 0.5721 - accuracy: 0.9176INFO:tensorflow:Assets written to: checkpoints/best-baseline/assets\n",
      "267/267 [==============================] - 171s 642ms/step - loss: 0.2523 - categorical_mean_iou_1: 0.5721 - accuracy: 0.9176 - val_loss: 0.2397 - val_categorical_mean_iou_1: 0.5900 - val_accuracy: 0.9203\n",
      "Epoch 23/200\n",
      "267/267 [==============================] - ETA: 0s - loss: 0.2679 - categorical_mean_iou_1: 0.5650 - accuracy: 0.9117INFO:tensorflow:Assets written to: checkpoints/best-baseline/assets\n",
      "267/267 [==============================] - 173s 646ms/step - loss: 0.2679 - categorical_mean_iou_1: 0.5650 - accuracy: 0.9117 - val_loss: 0.2337 - val_categorical_mean_iou_1: 0.5910 - val_accuracy: 0.9199\n",
      "Epoch 24/200\n",
      "267/267 [==============================] - 167s 625ms/step - loss: 0.2640 - categorical_mean_iou_1: 0.5703 - accuracy: 0.9135 - val_loss: 0.2618 - val_categorical_mean_iou_1: 0.5797 - val_accuracy: 0.9095\n",
      "Epoch 25/200\n",
      "267/267 [==============================] - ETA: 0s - loss: 0.2443 - categorical_mean_iou_1: 0.5807 - accuracy: 0.9206INFO:tensorflow:Assets written to: checkpoints/best-baseline/assets\n",
      "267/267 [==============================] - 174s 651ms/step - loss: 0.2443 - categorical_mean_iou_1: 0.5807 - accuracy: 0.9206 - val_loss: 0.2190 - val_categorical_mean_iou_1: 0.5994 - val_accuracy: 0.9275\n",
      "Epoch 26/200\n",
      "267/267 [==============================] - 167s 624ms/step - loss: 0.2702 - categorical_mean_iou_1: 0.5790 - accuracy: 0.9147 - val_loss: 0.2442 - val_categorical_mean_iou_1: 0.6003 - val_accuracy: 0.9212\n",
      "Epoch 27/200\n",
      "267/267 [==============================] - ETA: 0s - loss: 0.2349 - categorical_mean_iou_1: 0.5993 - accuracy: 0.9240INFO:tensorflow:Assets written to: checkpoints/best-baseline/assets\n",
      "267/267 [==============================] - 172s 644ms/step - loss: 0.2349 - categorical_mean_iou_1: 0.5993 - accuracy: 0.9240 - val_loss: 0.2188 - val_categorical_mean_iou_1: 0.6044 - val_accuracy: 0.9272\n",
      "Epoch 28/200\n",
      "267/267 [==============================] - ETA: 0s - loss: 0.2389 - categorical_mean_iou_1: 0.5961 - accuracy: 0.9222INFO:tensorflow:Assets written to: checkpoints/best-baseline/assets\n",
      "267/267 [==============================] - 172s 643ms/step - loss: 0.2389 - categorical_mean_iou_1: 0.5961 - accuracy: 0.9222 - val_loss: 0.2123 - val_categorical_mean_iou_1: 0.6167 - val_accuracy: 0.9295\n",
      "Epoch 29/200\n",
      "267/267 [==============================] - ETA: 0s - loss: 0.2166 - categorical_mean_iou_1: 0.6096 - accuracy: 0.9296INFO:tensorflow:Assets written to: checkpoints/best-baseline/assets\n",
      "267/267 [==============================] - 173s 650ms/step - loss: 0.2166 - categorical_mean_iou_1: 0.6096 - accuracy: 0.9296 - val_loss: 0.1985 - val_categorical_mean_iou_1: 0.6228 - val_accuracy: 0.9344\n",
      "Epoch 30/200\n",
      "267/267 [==============================] - ETA: 0s - loss: 0.2144 - categorical_mean_iou_1: 0.6181 - accuracy: 0.9307INFO:tensorflow:Assets written to: checkpoints/best-baseline/assets\n",
      "267/267 [==============================] - 171s 640ms/step - loss: 0.2144 - categorical_mean_iou_1: 0.6181 - accuracy: 0.9307 - val_loss: 0.1951 - val_categorical_mean_iou_1: 0.6298 - val_accuracy: 0.9354\n",
      "Epoch 31/200\n",
      "267/267 [==============================] - ETA: 0s - loss: 0.1969 - categorical_mean_iou_1: 0.6314 - accuracy: 0.9360INFO:tensorflow:Assets written to: checkpoints/best-baseline/assets\n",
      "267/267 [==============================] - 172s 646ms/step - loss: 0.1969 - categorical_mean_iou_1: 0.6314 - accuracy: 0.9360 - val_loss: 0.1880 - val_categorical_mean_iou_1: 0.6345 - val_accuracy: 0.9379\n",
      "Epoch 32/200\n",
      "267/267 [==============================] - ETA: 0s - loss: 0.1843 - categorical_mean_iou_1: 0.6431 - accuracy: 0.9400INFO:tensorflow:Assets written to: checkpoints/best-baseline/assets\n",
      "267/267 [==============================] - 173s 649ms/step - loss: 0.1843 - categorical_mean_iou_1: 0.6431 - accuracy: 0.9400 - val_loss: 0.1793 - val_categorical_mean_iou_1: 0.6449 - val_accuracy: 0.9422\n",
      "Epoch 33/200\n",
      "267/267 [==============================] - ETA: 0s - loss: 0.1829 - categorical_mean_iou_1: 0.6443 - accuracy: 0.9403INFO:tensorflow:Assets written to: checkpoints/best-baseline/assets\n",
      "267/267 [==============================] - 173s 646ms/step - loss: 0.1829 - categorical_mean_iou_1: 0.6443 - accuracy: 0.9403 - val_loss: 0.1704 - val_categorical_mean_iou_1: 0.6538 - val_accuracy: 0.9452\n",
      "Epoch 34/200\n",
      "267/267 [==============================] - 166s 624ms/step - loss: 0.2077 - categorical_mean_iou_1: 0.6294 - accuracy: 0.9320 - val_loss: 0.2039 - val_categorical_mean_iou_1: 0.6347 - val_accuracy: 0.9320\n",
      "Epoch 35/200\n",
      "267/267 [==============================] - ETA: 0s - loss: 0.1945 - categorical_mean_iou_1: 0.6385 - accuracy: 0.9356INFO:tensorflow:Assets written to: checkpoints/best-baseline/assets\n",
      "267/267 [==============================] - 172s 644ms/step - loss: 0.1945 - categorical_mean_iou_1: 0.6385 - accuracy: 0.9356 - val_loss: 0.1686 - val_categorical_mean_iou_1: 0.6600 - val_accuracy: 0.9451\n",
      "Epoch 36/200\n",
      "267/267 [==============================] - 167s 624ms/step - loss: 0.1764 - categorical_mean_iou_1: 0.6570 - accuracy: 0.9420 - val_loss: 0.1758 - val_categorical_mean_iou_1: 0.6604 - val_accuracy: 0.9419\n",
      "Epoch 37/200\n",
      "267/267 [==============================] - 167s 625ms/step - loss: 0.1673 - categorical_mean_iou_1: 0.6661 - accuracy: 0.9449 - val_loss: 0.1812 - val_categorical_mean_iou_1: 0.6543 - val_accuracy: 0.9434\n",
      "Epoch 38/200\n",
      "267/267 [==============================] - ETA: 0s - loss: 0.1617 - categorical_mean_iou_1: 0.6709 - accuracy: 0.9466INFO:tensorflow:Assets written to: checkpoints/best-baseline/assets\n",
      "267/267 [==============================] - 173s 649ms/step - loss: 0.1617 - categorical_mean_iou_1: 0.6709 - accuracy: 0.9466 - val_loss: 0.1610 - val_categorical_mean_iou_1: 0.6748 - val_accuracy: 0.9493\n",
      "Epoch 39/200\n",
      "267/267 [==============================] - 166s 623ms/step - loss: 0.1670 - categorical_mean_iou_1: 0.6730 - accuracy: 0.9447 - val_loss: 0.1611 - val_categorical_mean_iou_1: 0.6791 - val_accuracy: 0.9502\n",
      "Epoch 40/200\n",
      "267/267 [==============================] - 167s 625ms/step - loss: 0.1596 - categorical_mean_iou_1: 0.6723 - accuracy: 0.9475 - val_loss: 0.1613 - val_categorical_mean_iou_1: 0.6704 - val_accuracy: 0.9497\n",
      "Epoch 41/200\n",
      "267/267 [==============================] - 167s 625ms/step - loss: 0.2066 - categorical_mean_iou_1: 0.6309 - accuracy: 0.9341 - val_loss: 0.1799 - val_categorical_mean_iou_1: 0.6506 - val_accuracy: 0.9419\n",
      "Epoch 42/200\n",
      "267/267 [==============================] - 167s 626ms/step - loss: 0.1746 - categorical_mean_iou_1: 0.6605 - accuracy: 0.9423 - val_loss: 0.1687 - val_categorical_mean_iou_1: 0.6733 - val_accuracy: 0.9468\n",
      "Epoch 43/200\n",
      "267/267 [==============================] - ETA: 0s - loss: 0.1662 - categorical_mean_iou_1: 0.6770 - accuracy: 0.9463INFO:tensorflow:Assets written to: checkpoints/best-baseline/assets\n",
      "267/267 [==============================] - 172s 646ms/step - loss: 0.1662 - categorical_mean_iou_1: 0.6770 - accuracy: 0.9463 - val_loss: 0.1600 - val_categorical_mean_iou_1: 0.6803 - val_accuracy: 0.9498\n",
      "Epoch 44/200\n",
      "267/267 [==============================] - ETA: 0s - loss: 0.1532 - categorical_mean_iou_1: 0.6910 - accuracy: 0.9495INFO:tensorflow:Assets written to: checkpoints/best-baseline/assets\n",
      "267/267 [==============================] - 171s 640ms/step - loss: 0.1532 - categorical_mean_iou_1: 0.6910 - accuracy: 0.9495 - val_loss: 0.1394 - val_categorical_mean_iou_1: 0.6950 - val_accuracy: 0.9554\n",
      "Epoch 45/200\n",
      "267/267 [==============================] - 167s 624ms/step - loss: 0.1632 - categorical_mean_iou_1: 0.6770 - accuracy: 0.9466 - val_loss: 0.1441 - val_categorical_mean_iou_1: 0.6916 - val_accuracy: 0.9534\n",
      "Epoch 46/200\n",
      "267/267 [==============================] - ETA: 0s - loss: 0.1449 - categorical_mean_iou_1: 0.6983 - accuracy: 0.9519INFO:tensorflow:Assets written to: checkpoints/best-baseline/assets\n",
      "267/267 [==============================] - 172s 644ms/step - loss: 0.1449 - categorical_mean_iou_1: 0.6983 - accuracy: 0.9519 - val_loss: 0.1374 - val_categorical_mean_iou_1: 0.6952 - val_accuracy: 0.9553\n",
      "Epoch 47/200\n",
      "267/267 [==============================] - ETA: 0s - loss: 0.1430 - categorical_mean_iou_1: 0.6946 - accuracy: 0.9526INFO:tensorflow:Assets written to: checkpoints/best-baseline/assets\n",
      "267/267 [==============================] - 172s 644ms/step - loss: 0.1430 - categorical_mean_iou_1: 0.6946 - accuracy: 0.9526 - val_loss: 0.1354 - val_categorical_mean_iou_1: 0.7059 - val_accuracy: 0.9562\n",
      "Epoch 48/200\n",
      "267/267 [==============================] - 167s 624ms/step - loss: 0.1543 - categorical_mean_iou_1: 0.6862 - accuracy: 0.9488 - val_loss: 0.1429 - val_categorical_mean_iou_1: 0.6902 - val_accuracy: 0.9519\n",
      "Epoch 49/200\n",
      "267/267 [==============================] - 167s 625ms/step - loss: 0.1454 - categorical_mean_iou_1: 0.6970 - accuracy: 0.9515 - val_loss: 0.1379 - val_categorical_mean_iou_1: 0.6925 - val_accuracy: 0.9553\n",
      "Epoch 50/200\n",
      "267/267 [==============================] - 167s 625ms/step - loss: 0.1478 - categorical_mean_iou_1: 0.6875 - accuracy: 0.9510 - val_loss: 0.1425 - val_categorical_mean_iou_1: 0.6916 - val_accuracy: 0.9546\n",
      "Epoch 51/200\n",
      "267/267 [==============================] - 167s 625ms/step - loss: 0.1508 - categorical_mean_iou_1: 0.6949 - accuracy: 0.9494 - val_loss: 0.1426 - val_categorical_mean_iou_1: 0.6940 - val_accuracy: 0.9513\n",
      "Epoch 52/200\n",
      "267/267 [==============================] - 167s 624ms/step - loss: 0.1431 - categorical_mean_iou_1: 0.7019 - accuracy: 0.9523 - val_loss: 0.1389 - val_categorical_mean_iou_1: 0.6996 - val_accuracy: 0.9541\n"
     ]
    },
    {
     "data": {
      "text/plain": [
       "<tensorflow.python.keras.callbacks.History at 0x7f81b807a390>"
      ]
     },
     "execution_count": 22,
     "metadata": {},
     "output_type": "execute_result"
    }
   ],
   "source": [
    "import wandb\n",
    "from wandb.keras import WandbCallback\n",
    "from callbacks import WandbLogPredictions\n",
    "\n",
    "early_stopper = tf.keras.callbacks.EarlyStopping(patience=5, restore_best_weights=True)\n",
    "class_labels = {\n",
    "    0: 'Borders',\n",
    "    1: 'Sky',\n",
    "    2: 'Unknown',\n",
    "    3: 'Unknown',\n",
    "    4: 'Skyscrapers',\n",
    "}\n",
    "data_to_log = next(iter(validation_ds.batch(20)))\n",
    "log_predictions = WandbLogPredictions(data_to_log, class_labels)\n",
    "AUTOTUNE = tf.data.experimental.AUTOTUNE\n",
    "\n",
    "wandb.init(project=\"skyline12-augmentations\", tags=['baseline'])\n",
    "unet.fit(\n",
    "    train_ds.batch(3).cache('temp/ds_cache/').prefetch(AUTOTUNE),\n",
    "    epochs=200,\n",
    "    validation_data=validation_ds.batch(3).cache('temp/ds_cache/').prefetch(AUTOTUNE),\n",
    "    callbacks=[\n",
    "        early_stopper,\n",
    "        WandbCallback(),\n",
    "        log_predictions,\n",
    "        tf.keras.callbacks.ModelCheckpoint('checkpoints/best-baseline', save_best_only=True, save_weights_only=True)\n",
    "    ]\n",
    ")"
   ]
  },
  {
   "cell_type": "code",
   "execution_count": 28,
   "metadata": {},
   "outputs": [],
   "source": [
    "unet.load_weights('checkpoints/baseline-weights.h5')"
   ]
  },
  {
   "cell_type": "code",
   "execution_count": null,
   "metadata": {},
   "outputs": [],
   "source": []
  }
 ],
 "metadata": {
  "kernelspec": {
   "display_name": "Python 3",
   "language": "python",
   "name": "python3"
  },
  "language_info": {
   "codemirror_mode": {
    "name": "ipython",
    "version": 3
   },
   "file_extension": ".py",
   "mimetype": "text/x-python",
   "name": "python",
   "nbconvert_exporter": "python",
   "pygments_lexer": "ipython3",
   "version": "3.6.9"
  }
 },
 "nbformat": 4,
 "nbformat_minor": 4
}
